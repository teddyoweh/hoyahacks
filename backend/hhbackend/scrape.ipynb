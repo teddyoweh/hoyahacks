{
 "cells": [
  {
   "cell_type": "code",
   "execution_count": 1,
   "metadata": {},
   "outputs": [],
   "source": [
    "import pandas as pd\n",
    "import requests"
   ]
  },
  {
   "cell_type": "code",
   "execution_count": 2,
   "metadata": {},
   "outputs": [],
   "source": [
    "data = pd.read_csv('data.csv',names=[\"Country\",\"University\",\"Website\"])"
   ]
  },
  {
   "cell_type": "code",
   "execution_count": 3,
   "metadata": {},
   "outputs": [],
   "source": [
    "data = data[data['Country']=='US']"
   ]
  },
  {
   "cell_type": "code",
   "execution_count": 4,
   "metadata": {},
   "outputs": [],
   "source": [
    "hashmap = {}\n",
    "store  = {}"
   ]
  },
  {
   "cell_type": "code",
   "execution_count": 5,
   "metadata": {},
   "outputs": [],
   "source": [
    "for _ in data.values:\n",
    "    hashmap[_[1]] = _[2]\n",
    " \n",
    " "
   ]
  },
  {
   "cell_type": "code",
   "execution_count": 6,
   "metadata": {},
   "outputs": [],
   "source": [
    "def check_websites(websites):\n",
    "    for name, url in websites.items():\n",
    "        try:\n",
    "            response = requests.get(url)\n",
    "            \n",
    "            response.raise_for_status()   \n",
    "            store[name] = url\n",
    "            print(f\"{name}: Valid (Status Code: {response.status_code})\")\n",
    "        except requests.exceptions.RequestException as e:\n",
    "            print(f\"{name}: Invalid (Error: {e})\")"
   ]
  },
  {
   "cell_type": "code",
   "execution_count": 7,
   "metadata": {},
   "outputs": [
    {
     "name": "stdout",
     "output_type": "stream",
     "text": [
      "Abilene Christian University: Valid (Status Code: 200)\n",
      "Academy of Art College: Valid (Status Code: 200)\n",
      "Adams State College: Valid (Status Code: 200)\n",
      "Adelphi University: Valid (Status Code: 200)\n",
      "Adler School of Professional Psychology: Invalid (Error: 403 Client Error: Forbidden for url: http://www.adler.edu/)\n",
      "Adrian College: Valid (Status Code: 200)\n",
      "Agnes Scott College: Invalid (Error: HTTPConnectionPool(host='www.scottlan.edu', port=80): Max retries exceeded with url: / (Caused by NewConnectionError('<urllib3.connection.HTTPConnection object at 0x11db2d160>: Failed to establish a new connection: [Errno 8] nodename nor servname provided, or not known')))\n",
      "Air Force Institute of Technology: Invalid (Error: HTTPConnectionPool(host='www.afit.af.mil', port=80): Max retries exceeded with url: / (Caused by NewConnectionError('<urllib3.connection.HTTPConnection object at 0x11db2d1f0>: Failed to establish a new connection: [Errno 8] nodename nor servname provided, or not known')))\n",
      "Alabama Agricultural and Mechanical University: Valid (Status Code: 200)\n",
      "Alabama State University: Valid (Status Code: 200)\n",
      "Alaska Bible College: Valid (Status Code: 200)\n",
      "Alaska Pacific University: Invalid (Error: 403 Client Error: Forbidden for url: http://www.alaskapacific.edu/)\n",
      "Albany College of Pharmacy: Valid (Status Code: 200)\n",
      "Albany Law School: Valid (Status Code: 200)\n",
      "Albany Medical Center: Invalid (Error: 403 Client Error: Forbidden for url: http://www.amc.edu/)\n",
      "Albany State University: Valid (Status Code: 200)\n",
      "Albertus Magnus College: Valid (Status Code: 200)\n",
      "Albion College: Valid (Status Code: 200)\n",
      "Albright College: Invalid (Error: 403 Client Error: Forbidden for url: https://www.albright.edu/)\n",
      "Alcorn State University: Invalid (Error: 403 Client Error: Forbidden for url: https://www.alcorn.edu/)\n",
      "Alderson Broaddus College: Invalid (Error: 404 Client Error: Not Found for url: http://www.ab.edu/)\n",
      "Alfred Adler Graduate School: Valid (Status Code: 200)\n",
      "Alfred University: Valid (Status Code: 200)\n",
      "Alice Lloyd College: Invalid (Error: 403 Client Error: Forbidden for url: http://www.alc.edu/)\n",
      "Allegheny College: Invalid (Error: HTTPConnectionPool(host='www.alleg.edu', port=80): Max retries exceeded with url: / (Caused by NewConnectionError('<urllib3.connection.HTTPConnection object at 0x11db2d700>: Failed to establish a new connection: [Errno 8] nodename nor servname provided, or not known')))\n",
      "Allen University: Valid (Status Code: 200)\n",
      "Alma College: Valid (Status Code: 200)\n",
      "Alvernia College: Valid (Status Code: 200)\n",
      "Alverno College: Valid (Status Code: 200)\n",
      "Ambassador University: Valid (Status Code: 200)\n",
      "Amber University: Invalid (Error: HTTPConnectionPool(host='www.amberu.edu', port=80): Max retries exceeded with url: / (Caused by NewConnectionError('<urllib3.connection.HTTPConnection object at 0x11db2d0a0>: Failed to establish a new connection: [Errno 8] nodename nor servname provided, or not known')))\n",
      "American Academy of Nutrition: Invalid (Error: 404 Client Error: Not Found for url: http://www.nutritioneducation.com/)\n",
      "American Business & Technology University: Invalid (Error: HTTPConnectionPool(host='www.abtu.edu', port=80): Max retries exceeded with url: / (Caused by NewConnectionError('<urllib3.connection.HTTPConnection object at 0x11db2d310>: Failed to establish a new connection: [Errno 8] nodename nor servname provided, or not known')))\n",
      "American Conservatory of Music: Valid (Status Code: 200)\n",
      "American Conservatory Theater: Invalid (Error: HTTPConnectionPool(host='www.act-sfbay.org', port=80): Max retries exceeded with url: / (Caused by NewConnectionError('<urllib3.connection.HTTPConnection object at 0x11daed820>: Failed to establish a new connection: [Errno 8] nodename nor servname provided, or not known')))\n",
      "American-European School of Management : Invalid (Error: 404 Client Error: Not Found for url: http://www.aesom.com/)\n",
      "American Film Institute Center for Advanced Film and Television Studies: Valid (Status Code: 200)\n",
      "American Indian College: Invalid (Error: 403 Client Error: Forbidden for url: http://www.aicag.edu/)\n",
      "American InterContinental University - Atlanta: Invalid (Error: 403 Client Error: Forbidden for url: https://www.aiuniv.edu/)\n",
      "American InterContinental University - Ft. Lauderdale: Invalid (Error: 403 Client Error: Forbidden for url: https://www.aiuniv.edu/)\n",
      "American InterContinental University - Georgia: Invalid (Error: 403 Client Error: Forbidden for url: https://www.aiuniv.edu/)\n",
      "American InterContinental University Online: Invalid (Error: 403 Client Error: Forbidden for url: https://www.aiuniv.edu/)\n",
      "American International College: Valid (Status Code: 200)\n",
      "American Jewish University: Invalid (Error: HTTPConnectionPool(host='www.ajula.edu', port=80): Max retries exceeded with url: / (Caused by NewConnectionError('<urllib3.connection.HTTPConnection object at 0x11dade2e0>: Failed to establish a new connection: [Errno 8] nodename nor servname provided, or not known')))\n",
      "American Military University: Invalid (Error: HTTPConnectionPool(host='www.amunet.edu', port=80): Max retries exceeded with url: / (Caused by NewConnectionError('<urllib3.connection.HTTPConnection object at 0x11dade6d0>: Failed to establish a new connection: [Errno 8] nodename nor servname provided, or not known')))\n",
      "American Public University: Valid (Status Code: 200)\n",
      "American University: Valid (Status Code: 200)\n",
      "American World University: Invalid (Error: HTTPConnectionPool(host='www.awu.edu', port=80): Max retries exceeded with url: / (Caused by NewConnectionError('<urllib3.connection.HTTPConnection object at 0x11dade7c0>: Failed to establish a new connection: [Errno 8] nodename nor servname provided, or not known')))\n",
      "Amherst College: Valid (Status Code: 200)\n",
      "Anderson College: Invalid (Error: HTTPConnectionPool(host='www.anderson-college.edu', port=80): Max retries exceeded with url: / (Caused by NewConnectionError('<urllib3.connection.HTTPConnection object at 0x11daed940>: Failed to establish a new connection: [Errno 8] nodename nor servname provided, or not known')))\n",
      "Anderson University: Invalid (Error: 403 Client Error: Forbidden for url: http://anderson.edu/)\n",
      "Andon College - Modesto: Invalid (Error: 403 Client Error: Forbidden for url: https://www.hugedomains.com/domain_profile.cfm?d=andoncollege.com)\n",
      "Andon College - Stockton: Invalid (Error: HTTPConnectionPool(host='www.andoncollege.org', port=80): Max retries exceeded with url: / (Caused by NewConnectionError('<urllib3.connection.HTTPConnection object at 0x11db2d400>: Failed to establish a new connection: [Errno 8] nodename nor servname provided, or not known')))\n",
      "Andrew Jackson University: Valid (Status Code: 200)\n",
      "Andrews University: Valid (Status Code: 200)\n",
      "Angelo State University: Valid (Status Code: 200)\n",
      "Anna Maria College: Invalid (Error: HTTPConnectionPool(host='www.anna-maria.edu', port=80): Max retries exceeded with url: / (Caused by NewConnectionError('<urllib3.connection.HTTPConnection object at 0x11daed460>: Failed to establish a new connection: [Errno 8] nodename nor servname provided, or not known')))\n",
      "Antioch New England Graduate School: Invalid (Error: 403 Client Error: Forbidden for url: https://www.antioch.edu/new-england/)\n",
      "Antioch University: Invalid (Error: 403 Client Error: Forbidden for url: http://www.antioch.edu/)\n",
      "Antioch University Los Angeles: Invalid (Error: 403 Client Error: Forbidden for url: https://www.antioch.edu/los-angeles/)\n",
      "Antioch University Santa Barbara: Invalid (Error: 403 Client Error: Forbidden for url: https://www.antioch.edu/santa-barbara/)\n",
      "Antioch University Seattle: Invalid (Error: 403 Client Error: Forbidden for url: https://www.antioch.edu/seattle/)\n",
      "Appalachian Bible College: Invalid (Error: HTTPConnectionPool(host='www.appbibco.edu', port=80): Max retries exceeded with url: / (Caused by NewConnectionError('<urllib3.connection.HTTPConnection object at 0x11dbe8880>: Failed to establish a new connection: [Errno 8] nodename nor servname provided, or not known')))\n",
      "Appalachian State University: Valid (Status Code: 200)\n",
      "Aquinas College: Valid (Status Code: 200)\n",
      "Arcadia University: Valid (Status Code: 200)\n",
      "Argosy University: Invalid (Error: HTTPConnectionPool(host='www.argosy.edu', port=80): Max retries exceeded with url: / (Caused by NewConnectionError('<urllib3.connection.HTTPConnection object at 0x11db2db50>: Failed to establish a new connection: [Errno 8] nodename nor servname provided, or not known')))\n",
      "Argosy University - Hawaii: Invalid (Error: HTTPConnectionPool(host='www.argosyu.edu', port=80): Max retries exceeded with url: / (Caused by NewConnectionError('<urllib3.connection.HTTPConnection object at 0x11db2dcd0>: Failed to establish a new connection: [Errno 8] nodename nor servname provided, or not known')))\n",
      "Arizona Christian University: Valid (Status Code: 200)\n",
      "Arizona State University: Valid (Status Code: 200)\n",
      "Arizona State University, Downtown Phoenix Campus: Valid (Status Code: 200)\n",
      "Arizona State University, Polytechnic Campus: Valid (Status Code: 200)\n",
      "Arizona State University, Tempe Campus: Valid (Status Code: 200)\n",
      "Arizona State University, West Campus: Valid (Status Code: 200)\n",
      "Arkansas State University: Valid (Status Code: 200)\n",
      "Arkansas State University, Beebe: Valid (Status Code: 200)\n",
      "Arkansas State University, Mountain Home: Valid (Status Code: 200)\n",
      "Arkansas State University, Newport: Valid (Status Code: 200)\n",
      "Arkansas Tech University: Valid (Status Code: 200)\n",
      "Arlington Baptist College: Invalid (Error: HTTPConnectionPool(host='www.abconline.edu', port=80): Max retries exceeded with url: / (Caused by NewConnectionError('<urllib3.connection.HTTPConnection object at 0x11db2db20>: Failed to establish a new connection: [Errno 8] nodename nor servname provided, or not known')))\n",
      "Armstrong Atlantic State University: Valid (Status Code: 200)\n",
      "Armstrong University: Invalid (Error: HTTPConnectionPool(host='www.armstrong-u.edu', port=80): Max retries exceeded with url: / (Caused by NewConnectionError('<urllib3.connection.HTTPConnection object at 0x11dad6820>: Failed to establish a new connection: [Errno 8] nodename nor servname provided, or not known')))\n",
      "Art Academy of Cincinnati: Valid (Status Code: 200)\n",
      "Art Center College of Design: Valid (Status Code: 200)\n",
      "Arthur D. Little Management Education Institute: Invalid (Error: HTTPConnectionPool(host='www.adlsom.edu', port=80): Max retries exceeded with url: / (Caused by NewConnectionError('<urllib3.connection.HTTPConnection object at 0x11db2dc10>: Failed to establish a new connection: [Errno 8] nodename nor servname provided, or not known')))\n",
      "Art Institute of Charlotte: Invalid (Error: HTTPConnectionPool(host='www.aich.artinstitutes.edu', port=80): Max retries exceeded with url: / (Caused by NewConnectionError('<urllib3.connection.HTTPConnection object at 0x11db2d190>: Failed to establish a new connection: [Errno 8] nodename nor servname provided, or not known')))\n",
      "Art Institute of Southern California: Invalid (Error: HTTPConnectionPool(host='www.aisc.edu', port=80): Max retries exceeded with url: / (Caused by NewConnectionError('<urllib3.connection.HTTPConnection object at 0x11db2dc40>: Failed to establish a new connection: [Errno 8] nodename nor servname provided, or not known')))\n",
      "Asbury College: Valid (Status Code: 200)\n",
      "Ashland University: Valid (Status Code: 200)\n",
      "Assumption College: Invalid (Error: 403 Client Error: Forbidden for url: http://www.assumption.edu/)\n",
      "Athenaeum of Ohio: Valid (Status Code: 200)\n",
      "Athens State College: Invalid (Error: 403 Client Error: Forbidden for url: http://www.athens.edu/)\n",
      "Atlanta Christian College: Invalid (Error: HTTPConnectionPool(host='www.acc.edu', port=80): Max retries exceeded with url: / (Caused by NewConnectionError('<urllib3.connection.HTTPConnection object at 0x11daed490>: Failed to establish a new connection: [Errno 8] nodename nor servname provided, or not known')))\n",
      "Atlanta College of Art: Invalid (Error: HTTPConnectionPool(host='www.aca.edu', port=80): Max retries exceeded with url: / (Caused by NewConnectionError('<urllib3.connection.HTTPConnection object at 0x11daed3a0>: Failed to establish a new connection: [Errno 8] nodename nor servname provided, or not known')))\n",
      "Atlantic International University: Valid (Status Code: 200)\n",
      "Atlantic Union College: Invalid (Error: HTTPConnectionPool(host='www.atlanticuc.edu', port=80): Max retries exceeded with url: / (Caused by NewConnectionError('<urllib3.connection.HTTPConnection object at 0x11dad6ca0>: Failed to establish a new connection: [Errno 8] nodename nor servname provided, or not known')))\n",
      "Atlantic University: Valid (Status Code: 200)\n",
      "Auburn University: Valid (Status Code: 200)\n",
      "Auburn University at Montgomery: Invalid (Error: 403 Client Error: Forbidden for url: https://www.aum.edu/)\n",
      "Audrey Cohen College: Invalid (Error: HTTPConnectionPool(host='www.audrey-cohen.edu', port=80): Max retries exceeded with url: / (Caused by NewConnectionError('<urllib3.connection.HTTPConnection object at 0x11db2dee0>: Failed to establish a new connection: [Errno 8] nodename nor servname provided, or not known')))\n",
      "Augsburg College: Valid (Status Code: 200)\n",
      "Augustana College: Valid (Status Code: 200)\n",
      "Augusta State University: Valid (Status Code: 200)\n",
      "Aurora University: Valid (Status Code: 200)\n",
      "Austin College: Invalid (Error: HTTPConnectionPool(host='www.austinc.edu', port=80): Max retries exceeded with url: / (Caused by NewConnectionError('<urllib3.connection.HTTPConnection object at 0x11db2d610>: Failed to establish a new connection: [Errno 8] nodename nor servname provided, or not known')))\n",
      "Austin Community College: Invalid (Error: HTTPConnectionPool(host='www.austin.cc.tx.us', port=80): Max retries exceeded with url: / (Caused by NewConnectionError('<urllib3.connection.HTTPConnection object at 0x11db2d490>: Failed to establish a new connection: [Errno 8] nodename nor servname provided, or not known')))\n",
      "Austin Peay State University: Valid (Status Code: 200)\n",
      "Ave Maria University: Valid (Status Code: 200)\n",
      "Averett College: Invalid (Error: 403 Client Error: Forbidden for url: http://www.averett.edu/)\n",
      "Avila College: Valid (Status Code: 200)\n",
      "Azusa Pacific University: Valid (Status Code: 200)\n",
      "Babson College: Valid (Status Code: 200)\n",
      "Baker College of Auburn Hills: Invalid (Error: 404 Client Error: Not Found for url: https://bakerrx.my.salesforce-sites.com/EventListing/auburn.html)\n",
      "Baker College of Cadillac: Invalid (Error: 404 Client Error: Not Found for url: https://bakerrx.my.salesforce-sites.com/EventListing/cadillac.html)\n",
      "Baker College of Flint: Invalid (Error: 404 Client Error: Not Found for url: https://bakerrx.my.salesforce-sites.com/EventListing/flint.html)\n",
      "Baker College of Mount Clemens: Invalid (Error: 404 Client Error: Not Found for url: https://bakerrx.my.salesforce-sites.com/EventListing/mtclemens.html)\n",
      "Baker College of Muskegon: Invalid (Error: 404 Client Error: Not Found for url: https://bakerrx.my.salesforce-sites.com/EventListing/muskegon.html)\n",
      "Baker College of Owosso: Invalid (Error: 404 Client Error: Not Found for url: https://bakerrx.my.salesforce-sites.com/EventListing/owosso.html)\n",
      "Baker College of Port Huron: Invalid (Error: 404 Client Error: Not Found for url: https://bakerrx.my.salesforce-sites.com/EventListing/porthuron.html)\n"
     ]
    }
   ],
   "source": [
    "check_websites(hashmap)"
   ]
  },
  {
   "cell_type": "code",
   "execution_count": null,
   "metadata": {},
   "outputs": [],
   "source": [
    "import json\n",
    "output_file_path = 'uni_store.json'\n",
    "with open(output_file_path, 'w') as json_file:\n",
    "    json.dump(results, json_file, indent=2)"
   ]
  }
 ],
 "metadata": {
  "kernelspec": {
   "display_name": "Python 3",
   "language": "python",
   "name": "python3"
  },
  "language_info": {
   "codemirror_mode": {
    "name": "ipython",
    "version": 3
   },
   "file_extension": ".py",
   "mimetype": "text/x-python",
   "name": "python",
   "nbconvert_exporter": "python",
   "pygments_lexer": "ipython3",
   "version": "3.9.6"
  }
 },
 "nbformat": 4,
 "nbformat_minor": 2
}
